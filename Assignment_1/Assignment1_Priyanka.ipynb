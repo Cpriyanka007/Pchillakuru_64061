{
 "cells": [
  {
   "cell_type": "markdown",
   "id": "ab659160",
   "metadata": {},
   "source": [
    "#### Assignment 1\n",
    "#### Name: Priyanka \n",
    "#### Advance Machine Learning"
   ]
  },
  {
   "cell_type": "code",
   "execution_count": 38,
   "id": "0ed4b517",
   "metadata": {},
   "outputs": [],
   "source": [
    "from tensorflow.keras.datasets import imdb\n",
    "(train_data, train_labels), (test_data, test_labels) = imdb.load_data(\n",
    "    num_words=10000)"
   ]
  },
  {
   "cell_type": "code",
   "execution_count": 39,
   "id": "44d40145",
   "metadata": {},
   "outputs": [
    {
     "data": {
      "text/plain": [
       "1"
      ]
     },
     "execution_count": 39,
     "metadata": {},
     "output_type": "execute_result"
    }
   ],
   "source": [
    "train_labels[0]"
   ]
  },
  {
   "cell_type": "code",
   "execution_count": 40,
   "id": "d0b5ef8f",
   "metadata": {},
   "outputs": [
    {
     "data": {
      "text/plain": [
       "9999"
      ]
     },
     "execution_count": 40,
     "metadata": {},
     "output_type": "execute_result"
    }
   ],
   "source": [
    "max([max(sequence) for sequence in train_data])"
   ]
  },
  {
   "cell_type": "code",
   "execution_count": 41,
   "id": "cde664d8",
   "metadata": {},
   "outputs": [],
   "source": [
    "word_index = imdb.get_word_index()\n",
    "reverse_word_index = dict(\n",
    "    [(value, key) for (key, value) in word_index.items()])\n",
    "decoded_review = \" \".join(\n",
    "    [reverse_word_index.get(i - 3, \"?\") for i in train_data[0]])"
   ]
  },
  {
   "cell_type": "code",
   "execution_count": 42,
   "id": "e4240138",
   "metadata": {},
   "outputs": [],
   "source": [
    "import numpy as np\n",
    "def vectorize_sequences(sequences, dimension=10000):\n",
    "    results = np.zeros((len(sequences), dimension))\n",
    "    for i, sequence in enumerate(sequences):\n",
    "        for j in sequence:\n",
    "            results[i, j] = 1.\n",
    "    return results\n",
    "x_train = vectorize_sequences(train_data)\n",
    "x_test = vectorize_sequences(test_data)"
   ]
  },
  {
   "cell_type": "code",
   "execution_count": 43,
   "id": "f5b78735",
   "metadata": {},
   "outputs": [
    {
     "data": {
      "text/plain": [
       "array([0., 1., 1., ..., 0., 0., 0.])"
      ]
     },
     "execution_count": 43,
     "metadata": {},
     "output_type": "execute_result"
    }
   ],
   "source": [
    "x_train[0]"
   ]
  },
  {
   "cell_type": "code",
   "execution_count": 44,
   "id": "1e3aac2e",
   "metadata": {},
   "outputs": [],
   "source": [
    "y_train = np.asarray(train_labels).astype(\"float32\")\n",
    "y_test = np.asarray(test_labels).astype(\"float32\")"
   ]
  },
  {
   "cell_type": "code",
   "execution_count": 45,
   "id": "dffe8ff8",
   "metadata": {},
   "outputs": [],
   "source": [
    "from tensorflow import keras\n",
    "from tensorflow.keras import layers\n",
    "\n",
    "model = keras.Sequential([\n",
    "    layers.Dense(32, activation=\"tanh\"),\n",
    "    layers.Dense(32, activation=\"tanh\"),\n",
    "    layers.Dense(32, activation=\"tanh\"),\n",
    "    layers.Dense(1, activation=\"sigmoid\")\n",
    "])"
   ]
  },
  {
   "cell_type": "code",
   "execution_count": 49,
   "id": "2a208143",
   "metadata": {},
   "outputs": [],
   "source": [
    "model.compile(optimizer=\"adam\", \n",
    "              loss=\"mean_squared_error\",\n",
    "              metrics=[\"accuracy\"])"
   ]
  },
  {
   "cell_type": "markdown",
   "id": "c6854f06",
   "metadata": {},
   "source": [
    "### Validating the approach"
   ]
  },
  {
   "cell_type": "code",
   "execution_count": 50,
   "id": "8b490187",
   "metadata": {},
   "outputs": [],
   "source": [
    "x_val = x_train[:10000]\n",
    "partial_x_train = x_train[10000:]\n",
    "y_val = y_train[:10000]\n",
    "partial_y_train = y_train[10000:]"
   ]
  },
  {
   "cell_type": "code",
   "execution_count": 51,
   "id": "edb1f363",
   "metadata": {},
   "outputs": [
    {
     "name": "stdout",
     "output_type": "stream",
     "text": [
      "Epoch 1/20\n",
      "59/59 [==============================] - 1s 10ms/step - loss: 0.1068 - accuracy: 0.8577 - val_loss: 0.0846 - val_accuracy: 0.8854\n",
      "Epoch 2/20\n",
      "59/59 [==============================] - 0s 7ms/step - loss: 0.0468 - accuracy: 0.9401 - val_loss: 0.0927 - val_accuracy: 0.8776\n",
      "Epoch 3/20\n",
      "59/59 [==============================] - 0s 7ms/step - loss: 0.0288 - accuracy: 0.9678 - val_loss: 0.0995 - val_accuracy: 0.8752\n",
      "Epoch 4/20\n",
      "59/59 [==============================] - 0s 7ms/step - loss: 0.0212 - accuracy: 0.9768 - val_loss: 0.1122 - val_accuracy: 0.8645\n",
      "Epoch 5/20\n",
      "59/59 [==============================] - 0s 7ms/step - loss: 0.0201 - accuracy: 0.9777 - val_loss: 0.1130 - val_accuracy: 0.8686\n",
      "Epoch 6/20\n",
      "59/59 [==============================] - 0s 7ms/step - loss: 0.0204 - accuracy: 0.9768 - val_loss: 0.1159 - val_accuracy: 0.8652\n",
      "Epoch 7/20\n",
      "59/59 [==============================] - 0s 8ms/step - loss: 0.0194 - accuracy: 0.9772 - val_loss: 0.1155 - val_accuracy: 0.8681\n",
      "Epoch 8/20\n",
      "59/59 [==============================] - 0s 8ms/step - loss: 0.0168 - accuracy: 0.9809 - val_loss: 0.1223 - val_accuracy: 0.8605\n",
      "Epoch 9/20\n",
      "59/59 [==============================] - 0s 8ms/step - loss: 0.0147 - accuracy: 0.9840 - val_loss: 0.1253 - val_accuracy: 0.8584\n",
      "Epoch 10/20\n",
      "59/59 [==============================] - 0s 8ms/step - loss: 0.0122 - accuracy: 0.9872 - val_loss: 0.1219 - val_accuracy: 0.8636\n",
      "Epoch 11/20\n",
      "59/59 [==============================] - 0s 8ms/step - loss: 0.0114 - accuracy: 0.9879 - val_loss: 0.1229 - val_accuracy: 0.8637\n",
      "Epoch 12/20\n",
      "59/59 [==============================] - 1s 10ms/step - loss: 0.0111 - accuracy: 0.9880 - val_loss: 0.1270 - val_accuracy: 0.8611\n",
      "Epoch 13/20\n",
      "59/59 [==============================] - 1s 10ms/step - loss: 0.0116 - accuracy: 0.9878 - val_loss: 0.1270 - val_accuracy: 0.8609\n",
      "Epoch 14/20\n",
      "59/59 [==============================] - 1s 10ms/step - loss: 0.0125 - accuracy: 0.9865 - val_loss: 0.1284 - val_accuracy: 0.8601\n",
      "Epoch 15/20\n",
      "59/59 [==============================] - 1s 9ms/step - loss: 0.0109 - accuracy: 0.9887 - val_loss: 0.1347 - val_accuracy: 0.8534\n",
      "Epoch 16/20\n",
      "59/59 [==============================] - 1s 9ms/step - loss: 0.0117 - accuracy: 0.9873 - val_loss: 0.1308 - val_accuracy: 0.8587\n",
      "Epoch 17/20\n",
      "59/59 [==============================] - 1s 9ms/step - loss: 0.0138 - accuracy: 0.9848 - val_loss: 0.1330 - val_accuracy: 0.8570\n",
      "Epoch 18/20\n",
      "59/59 [==============================] - 0s 8ms/step - loss: 0.0129 - accuracy: 0.9859 - val_loss: 0.1282 - val_accuracy: 0.8607\n",
      "Epoch 19/20\n",
      "59/59 [==============================] - 0s 8ms/step - loss: 0.0118 - accuracy: 0.9873 - val_loss: 0.1308 - val_accuracy: 0.8584\n",
      "Epoch 20/20\n",
      "59/59 [==============================] - 0s 8ms/step - loss: 0.0115 - accuracy: 0.9877 - val_loss: 0.1296 - val_accuracy: 0.8601\n"
     ]
    }
   ],
   "source": [
    "## model planned to train with 20 epoch with batch size of 256\n",
    "\n",
    "history = model.fit(partial_x_train,\n",
    "                    partial_y_train,\n",
    "                    epochs=20,\n",
    "                    batch_size=256,\n",
    "                    validation_data=(x_val, y_val))"
   ]
  },
  {
   "cell_type": "code",
   "execution_count": 52,
   "id": "52cb1367",
   "metadata": {},
   "outputs": [
    {
     "data": {
      "text/plain": [
       "dict_keys(['loss', 'accuracy', 'val_loss', 'val_accuracy'])"
      ]
     },
     "execution_count": 52,
     "metadata": {},
     "output_type": "execute_result"
    }
   ],
   "source": [
    "history_dict = history.history\n",
    "history_dict.keys()"
   ]
  },
  {
   "cell_type": "markdown",
   "id": "97761377",
   "metadata": {},
   "source": [
    "### Plotting the train & Validation loss"
   ]
  },
  {
   "cell_type": "code",
   "execution_count": 53,
   "id": "7947e3a4",
   "metadata": {},
   "outputs": [
    {
     "data": {
      "image/png": "[encoded data removed]",
      "text/plain": [
       "<Figure size 432x288 with 1 Axes>"
      ]
     },
     "metadata": {
      "needs_background": "light"
     },
     "output_type": "display_data"
    }
   ],
   "source": [
    "import matplotlib.pyplot as plt\n",
    "history_dict = history.history\n",
    "loss_values = history_dict[\"loss\"]\n",
    "val_loss_values = history_dict[\"val_loss\"]\n",
    "epochs = range(1, len(loss_values) + 1)\n",
    "plt.plot(epochs, loss_values, \"bo\", label=\"Training loss\")\n",
    "plt.plot(epochs, val_loss_values, \"b\", label=\"Validation loss\")\n",
    "plt.title(\"Training and validation loss\")\n",
    "plt.xlabel(\"Epochs\")\n",
    "plt.ylabel(\"Loss\")\n",
    "plt.legend()\n",
    "plt.show()"
   ]
  },
  {
   "cell_type": "markdown",
   "id": "81b8bca0",
   "metadata": {},
   "source": [
    "**Plotting the training and validation accuracy**"
   ]
  },
  {
   "cell_type": "code",
   "execution_count": 54,
   "id": "f8cf4f21",
   "metadata": {},
   "outputs": [
    {
     "data": {
      "image/png": "[encoded data removed]",
      "text/plain": [
       "<Figure size 432x288 with 1 Axes>"
      ]
     },
     "metadata": {
      "needs_background": "light"
     },
     "output_type": "display_data"
    }
   ],
   "source": [
    "plt.clf()\n",
    "acc = history_dict[\"accuracy\"]\n",
    "val_acc = history_dict[\"val_accuracy\"]\n",
    "plt.plot(epochs, acc, \"bo\", label=\"Training acc\")\n",
    "plt.plot(epochs, val_acc, \"b\", label=\"Validation acc\")\n",
    "plt.title(\"Training and validation accuracy\")\n",
    "plt.xlabel(\"Epochs\")\n",
    "plt.ylabel(\"Accuracy\")\n",
    "plt.legend()\n",
    "plt.show()"
   ]
  },
  {
   "cell_type": "code",
   "execution_count": 55,
   "id": "06ad0219",
   "metadata": {},
   "outputs": [
    {
     "name": "stdout",
     "output_type": "stream",
     "text": [
      "782/782 [==============================] - 1s 960us/step - loss: 0.1417 - accuracy: 0.8470\n"
     ]
    }
   ],
   "source": [
    "results = model.evaluate(x_test, y_test)"
   ]
  },
  {
   "cell_type": "code",
   "execution_count": 56,
   "id": "22190590",
   "metadata": {},
   "outputs": [
    {
     "data": {
      "text/plain": [
       "[0.14169913530349731, 0.847000002861023]"
      ]
     },
     "execution_count": 56,
     "metadata": {},
     "output_type": "execute_result"
    }
   ],
   "source": [
    "results"
   ]
  },
  {
   "cell_type": "markdown",
   "id": "b7abf977",
   "metadata": {},
   "source": [
    "#### Combining all code together along with dropout layer"
   ]
  },
  {
   "cell_type": "code",
   "execution_count": 61,
   "id": "1d4a7121",
   "metadata": {},
   "outputs": [
    {
     "name": "stdout",
     "output_type": "stream",
     "text": [
      "Epoch 1/20\n",
      "59/59 [==============================] - 1s 13ms/step - loss: 1.4738 - accuracy: 0.7827 - val_loss: 1.1340 - val_accuracy: 0.8830\n",
      "Epoch 2/20\n",
      "59/59 [==============================] - 0s 8ms/step - loss: 0.9096 - accuracy: 0.9031 - val_loss: 0.6972 - val_accuracy: 0.8869\n",
      "Epoch 3/20\n",
      "59/59 [==============================] - 0s 7ms/step - loss: 0.5177 - accuracy: 0.9311 - val_loss: 0.3846 - val_accuracy: 0.8884\n",
      "Epoch 4/20\n",
      "59/59 [==============================] - 0s 7ms/step - loss: 0.2560 - accuracy: 0.9467 - val_loss: 0.1964 - val_accuracy: 0.8881\n",
      "Epoch 5/20\n",
      "59/59 [==============================] - 0s 7ms/step - loss: 0.1225 - accuracy: 0.9577 - val_loss: 0.1300 - val_accuracy: 0.8887\n",
      "Epoch 6/20\n",
      "59/59 [==============================] - 0s 8ms/step - loss: 0.0852 - accuracy: 0.9636 - val_loss: 0.1183 - val_accuracy: 0.8879\n",
      "Epoch 7/20\n",
      "59/59 [==============================] - 0s 7ms/step - loss: 0.0731 - accuracy: 0.9673 - val_loss: 0.1133 - val_accuracy: 0.8865\n",
      "Epoch 8/20\n",
      "59/59 [==============================] - 0s 8ms/step - loss: 0.0637 - accuracy: 0.9733 - val_loss: 0.1112 - val_accuracy: 0.8853\n",
      "Epoch 9/20\n",
      "59/59 [==============================] - 1s 9ms/step - loss: 0.0577 - accuracy: 0.9754 - val_loss: 0.1095 - val_accuracy: 0.8844\n",
      "Epoch 10/20\n",
      "59/59 [==============================] - 0s 8ms/step - loss: 0.0519 - accuracy: 0.9809 - val_loss: 0.1095 - val_accuracy: 0.8817\n",
      "Epoch 11/20\n",
      "59/59 [==============================] - 0s 8ms/step - loss: 0.0471 - accuracy: 0.9834 - val_loss: 0.1115 - val_accuracy: 0.8808\n",
      "Epoch 12/20\n",
      "59/59 [==============================] - 0s 8ms/step - loss: 0.0434 - accuracy: 0.9854 - val_loss: 0.1123 - val_accuracy: 0.8782\n",
      "Epoch 13/20\n",
      "59/59 [==============================] - 0s 8ms/step - loss: 0.0398 - accuracy: 0.9881 - val_loss: 0.1121 - val_accuracy: 0.8788\n",
      "Epoch 14/20\n",
      "59/59 [==============================] - 0s 8ms/step - loss: 0.0378 - accuracy: 0.9885 - val_loss: 0.1112 - val_accuracy: 0.8776\n",
      "Epoch 15/20\n",
      "59/59 [==============================] - 1s 9ms/step - loss: 0.0346 - accuracy: 0.9902 - val_loss: 0.1128 - val_accuracy: 0.8777\n",
      "Epoch 16/20\n",
      "59/59 [==============================] - 0s 8ms/step - loss: 0.0325 - accuracy: 0.9915 - val_loss: 0.1133 - val_accuracy: 0.8762\n",
      "Epoch 17/20\n",
      "59/59 [==============================] - 0s 7ms/step - loss: 0.0305 - accuracy: 0.9928 - val_loss: 0.1131 - val_accuracy: 0.8769\n",
      "Epoch 18/20\n",
      "59/59 [==============================] - 0s 8ms/step - loss: 0.0286 - accuracy: 0.9941 - val_loss: 0.1120 - val_accuracy: 0.8761\n",
      "Epoch 19/20\n",
      "59/59 [==============================] - 0s 8ms/step - loss: 0.0277 - accuracy: 0.9943 - val_loss: 0.1133 - val_accuracy: 0.8737\n",
      "Epoch 20/20\n",
      "59/59 [==============================] - 1s 9ms/step - loss: 0.0263 - accuracy: 0.9939 - val_loss: 0.1147 - val_accuracy: 0.8726\n"
     ]
    },
    {
     "data": {
      "image/png": "[encoded data removed]",
      "text/plain": [
       "<Figure size 432x288 with 1 Axes>"
      ]
     },
     "metadata": {
      "needs_background": "light"
     },
     "output_type": "display_data"
    },
    {
     "name": "stdout",
     "output_type": "stream",
     "text": [
      "782/782 [==============================] - 1s 1ms/step - loss: 0.1240 - accuracy: 0.8623\n"
     ]
    },
    {
     "data": {
      "text/plain": [
       "[0.12398882955312729, 0.862280011177063]"
      ]
     },
     "execution_count": 61,
     "metadata": {},
     "output_type": "execute_result"
    }
   ],
   "source": [
    "## Libraries required for setting up an environment\n",
    "\n",
    "#####################################\n",
    "from tensorflow import keras\n",
    "from tensorflow.keras import layers\n",
    "from keras.layers import Dense\n",
    "from keras.layers import Dropout\n",
    "from tensorflow.keras import regularizers\n",
    "#####################################\n",
    "\n",
    "# Neural network implementation using 3 layered approach with a single dropout layer\n",
    "#######################################\n",
    "model = keras.Sequential()\n",
    "model.add(Dense(32,activation='tanh')) \n",
    "model.add(Dropout(0.5))\n",
    "#kernel_regularizer=regularizers.L1(0.01), activity_regularizer=regularizers.L2(0.01))\n",
    "model.add(Dense(32,activation='tanh',kernel_regularizer=regularizers.L1(0.01), activity_regularizer=regularizers.L2(0.01)))\n",
    "model.add(Dropout(0.5))\n",
    "model.add(Dense(32,activation='tanh'))\n",
    "model.add(Dense(1, activation='sigmoid'))\n",
    "########################################\n",
    "\n",
    "# Here for compilation we used optimizer \"adagrad\", mean squared error loss and accuracy metrics\n",
    "########################################\n",
    "model.compile(optimizer=\"adam\",\n",
    "              loss=\"mean_squared_error\",\n",
    "              metrics=[\"accuracy\"])\n",
    "########################################\n",
    "\n",
    "## splitting the data\n",
    "#######################################\n",
    "x_val = x_train[:10000]\n",
    "partial_x_train = x_train[10000:]\n",
    "y_val = y_train[:10000]\n",
    "partial_y_train = y_train[10000:]\n",
    "#######################################\n",
    "\n",
    "# Train a neural network\n",
    "#####################################################\n",
    "history = model.fit(partial_x_train,\n",
    "                    partial_y_train,\n",
    "                    epochs=20,\n",
    "                    batch_size=256,\n",
    "                    validation_data=(x_val, y_val))\n",
    "#####################################################\n",
    "\n",
    "# plotting the Training and Validation accuracy\n",
    "####################################################\n",
    "plt.clf()\n",
    "acc = history_dict[\"accuracy\"]\n",
    "val_acc = history_dict[\"val_accuracy\"]\n",
    "plt.plot(epochs, acc, \"bo\", label=\"Training acc\")\n",
    "plt.plot(epochs, val_acc, \"b\", label=\"Validation acc\")\n",
    "plt.title(\"Training and validation accuracy\")\n",
    "plt.xlabel(\"Epochs\")\n",
    "plt.ylabel(\"Accuracy\")\n",
    "plt.legend()\n",
    "plt.show()\n",
    "####################################################\n",
    "\n",
    "\n",
    "# Evaluating the results\n",
    "results = model.evaluate(x_test, y_test)\n",
    "results\n"
   ]
  },
  {
   "cell_type": "markdown",
   "id": "fbce14bc",
   "metadata": {},
   "source": [
    "#### Summary about the three-layered neural network for IMDB data:\n",
    "•\tInitially we gathered required libraries for our neural network to be on track. During my study and little research, I can infer that TensorFlow has good support and implementation among other deep learning libraries like pytorch.\n",
    "\n",
    "List of Imports are: \n",
    "\n",
    "from tensorflow import keras  \n",
    "from tensorflow.keras import layers\n",
    "from keras.layers import Dense\n",
    "from keras.layers import Dropout\n",
    "\n",
    "•\twe imported keras, keras.layers, Dense and Dropouts. Each of its own has significant importance in its implementation. Keras is the high-level API of TensorFlow 2: an approachable, highly productive interface for solving machine learning problems, with a focus on modern deep learning.\n",
    "\tThe core data structures of Keras are layers and models. The simplest type of model is the Sequential model, a linear stack of layers.\n",
    "\tDense represent the number of hidden units in the neural network.\n",
    "\tDropout: The significance of dropout is taking a bunch of inputs or hidden layer input, random remove the connections.\n",
    "   Now let’s talk about the designing the neural network layers.\n",
    "model = keras.Sequential()  ----- Sequential model is the simplest mode of keras, which is stack up the layers in the sequences.\n",
    "model.add(Dense(32,activation='tanh'))\n",
    "Stacking layers is easy using the. add function. Also 32 represents the number of hidden units and we use the activation function tanh.\n",
    "Before going to the next topic, I will describe the contents of a neural network.\n",
    "1.\tInput layer -- where we provide our input to it. – here we provide vector representation of IMDB data\n",
    "2.\tHidden layers – it contains the number of dense units, and we can stack up as many layers as we want depending on the requirement.\n",
    "3.\tOutput layer – output layer, Preferably the output layer has 1 dense unit.\n",
    "Here in this task I tried to implement three layered approach as per the requirement given in the assignment.\n",
    "   model = keras.Sequential([\n",
    "    layers.Dense(32, activation=\"tanh\"),\n",
    "    layers.Dense(32, activation=\"tanh\"),\n",
    "    layers.Dense(32, activation=\"tanh\"),\n",
    "    layers.Dense(1, activation=\"sigmoid\")\n",
    "])\n",
    "\n",
    "The above code model initialized as sequential. And we stack up three layers with 32 dense units and tanh activation function. In the task, I implemented tanh instead of relu as suggested in the assignment.\n",
    "model.compile(optimizer=\"adagrad\", loss=\"mean_squared_error\", metrics=[\"accuracy\"])\n",
    "The above piece of code uses an optimizer adagrad with mse loss. I still have a doubt here initially IMBD data uses a loss of binary_crossentrophy which is a probabilistic loss and what if we changed the regression loss. More information will be available in 2nd reference link.\n",
    "Optimizers are very important to minimize the error and we have different techniques/optimizers. For example, adam is considered as good optimizers among the different approaches. In this task, I used adagrad. More details about optimizers will be explained in the 3nd reference link.\n",
    "\tWe split the data into training and validation part and the code below shows the split\n",
    "\n",
    "x_val = x_train[:10000]\n",
    "partial_x_train = x_train[10000:]\n",
    "y_val = y_train[:10000]\n",
    "partial_y_train = y_train[10000:]\n",
    "Training the data \n",
    "history = model.fit(partial_x_train,\n",
    "                    partial_y_train,\n",
    "                    epochs=20,\n",
    "                    batch_size=256,\n",
    "                    validation_data=(x_val, y_val))\n",
    "The above line of code represent it will train the neural network with 20 epoch and batch size of 256 and parallely it compare with validation data.\n",
    "I used L1 and L2 regularizers but it does not gives much impact on the total validation accuracy.\n",
    "\n",
    "\n",
    "   \n",
    "\n",
    "        \n",
    "Reference: \n",
    "1.\thttps://keras.io/about\n",
    "2.\thttps://keras.io/api/losses/\n",
    "3.\thttps://keras.io/api/optimizers/\n"
   ]
  },
  {
   "cell_type": "code",
   "execution_count": null,
   "id": "e394a160",
   "metadata": {},
   "outputs": [],
   "source": []
  },
  {
   "cell_type": "markdown",
   "id": "1040099d",
   "metadata": {},
   "source": [
    "## Conclusions\n",
    "\n",
    "##### 1. neural network designed with  3 layers\n",
    "##### 2. Activation functions tanh is used instead of relu\n",
    "##### 3. Optimizer adam is used instead of rmsprop\n",
    "##### 4. L1 & L2 regularizers are used\n",
    "##### 4. Dropout layer with 0.5 is used. That means we are dropping 50 percent of inputs during the training.\n",
    "\n",
    "### Final accuracy of 99.39 and validation accuracy of 87.2 is achieved using the above changes..\n",
    "\n"
   ]
  },
  {
   "cell_type": "code",
   "execution_count": null,
   "id": "96d9cd77",
   "metadata": {},
   "outputs": [],
   "source": []
  },
  {
   "cell_type": "code",
   "execution_count": null,
   "id": "5b9c2783",
   "metadata": {},
   "outputs": [],
   "source": []
  }
 ],
 "metadata": {
  "kernelspec": {
   "display_name": "Python 3 (ipykernel)",
   "language": "python",
   "name": "python3"
  },
  "language_info": {
   "codemirror_mode": {
    "name": "ipython",
    "version": 3
   },
   "file_extension": ".py",
   "mimetype": "text/x-python",
   "name": "python",
   "nbconvert_exporter": "python",
   "pygments_lexer": "ipython3",
   "version": "3.9.12"
  }
 },
 "nbformat": 4,
 "nbformat_minor": 5
}
